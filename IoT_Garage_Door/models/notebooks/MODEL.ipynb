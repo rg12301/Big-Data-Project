{
 "cells": [
  {
   "cell_type": "code",
   "execution_count": 1,
   "metadata": {},
   "outputs": [],
   "source": [
    "import pandas as pd\n",
    "import numpy as np\n",
    "import time\n",
    "import pickle\n",
    "from sklearn.metrics import accuracy_score, f1_score, precision_score, recall_score\n",
    "from sklearn.preprocessing import LabelEncoder\n",
    "from sklearn.model_selection import train_test_split\n",
    "from sklearn.ensemble import VotingClassifier"
   ]
  },
  {
   "cell_type": "code",
   "execution_count": 2,
   "metadata": {},
   "outputs": [
    {
     "name": "stdout",
     "output_type": "stream",
     "text": [
      "<class 'pandas.core.frame.DataFrame'>\n",
      "RangeIndex: 102951 entries, 0 to 102950\n",
      "Data columns (total 6 columns):\n",
      " #   Column         Non-Null Count   Dtype \n",
      "---  ------         --------------   ----- \n",
      " 0   date           102951 non-null  object\n",
      " 1   time           102951 non-null  object\n",
      " 2   state          102951 non-null  object\n",
      " 3   sphone_signal  102951 non-null  object\n",
      " 4   label          102951 non-null  object\n",
      " 5   type           102951 non-null  object\n",
      "dtypes: object(6)\n",
      "memory usage: 4.7+ MB\n",
      "None\n",
      "\n",
      "       date      time   state sphone_signal label    type\n",
      "0  1-Apr-19  20:53:44    open          true     0  normal\n",
      "1  1-Apr-19  20:53:49  closed         false     0  normal\n",
      "2  1-Apr-19  20:53:49    open          true     0  normal\n",
      "3  1-Apr-19  20:53:54  closed         false     0  normal\n",
      "4  1-Apr-19  20:53:54    open          true     0  normal\n"
     ]
    }
   ],
   "source": [
    "# reading data\n",
    "IoT = pd.read_csv('../../data/test_garage.csv')\n",
    "# IoT = IoT.iloc[0:500]\n",
    "print(IoT.info())\n",
    "print()\n",
    "print(IoT.head())\n",
    "# processing data ----------------------------------------------------\n",
    "# drop NaN values\n",
    "IoT = IoT.dropna()\n",
    "\n",
    "# encode string data to numeric\n",
    "encoder=LabelEncoder()\n",
    "IoT['type']=encoder.fit_transform(IoT['type'])\n",
    "IoT['state']=encoder.fit_transform(IoT['state'])\n",
    "IoT['sphone_signal']=encoder.fit_transform(IoT['sphone_signal'])\n",
    "# --------------------------------------------------------------------\n",
    "\n",
    "# dividing into input and output variables\n",
    "x = IoT.drop(['label', 'date', 'time', 'type'], axis=1)\n",
    "y = IoT['type']"
   ]
  },
  {
   "cell_type": "code",
   "execution_count": 3,
   "metadata": {},
   "outputs": [],
   "source": [
    "# Fit given model with the data and print required metrics\n",
    "log = open('../metrics_summary.log', 'w')\n",
    "log.write('')\n",
    "log.close()\n",
    "\n",
    "def run(x, y, model, name):\n",
    "    # initiate log file instance\n",
    "    log = open('../metrics_summary.log', 'a')\n",
    "\n",
    "    # save model\n",
    "    filename = f'../h5s/{name}.h5'\n",
    "    pickle.dump(model, open(filename, 'wb'))\n",
    "\n",
    "    x_train,x_test,y_train,y_test = train_test_split(x, y, test_size=0.2)\n",
    "    \n",
    "    # fitting model and calculating time consumed\n",
    "    start = time.time()\n",
    "    model.fit(x_train,y_train)\n",
    "    end = time.time()\n",
    "\n",
    "    # prediction\n",
    "    y_pred = model.predict(x_test)\n",
    "\n",
    "    # calculate required metrics\n",
    "    accuracy = accuracy_score(y_test, y_pred)\n",
    "    precision = precision_score(y_test, y_pred, average='weighted', labels=np.unique(y_pred))\n",
    "    recall = recall_score(y_test, y_pred, average='weighted', labels=np.unique(y_pred))\n",
    "    f1_score_value = f1_score(y_test, y_pred, average='weighted', labels=np.unique(y_pred))\n",
    "    time_consumed = end-start\n",
    "\n",
    "    # print calculated metrics\n",
    "    log.write(f'{name}---->\\n')\n",
    "    log.write(f'Test accuracy: {accuracy}\\n')\n",
    "    log.write(f'Test precision: {precision}\\n')\n",
    "    log.write(f'Test recall: {recall}\\n')\n",
    "    log.write(f'Test f1_score: {f1_score_value}\\n')\n",
    "    log.write(f'Time taken in fitting: {time_consumed}\\n')\n",
    "    log.write('\\n\\n')\n",
    "    log.close()"
   ]
  },
  {
   "cell_type": "code",
   "execution_count": 4,
   "metadata": {},
   "outputs": [],
   "source": [
    "# # LSTM\n",
    "# from keras.models import Sequential\n",
    "# from keras.layers import Dense, Dropout, LSTM, Flatten\n",
    "\n",
    "# lstm = Sequential()\n",
    "# lstm.add(LSTM(units = 128, activation='tanh', return_sequences=True, input_shape = (features,1)))\n",
    "# lstm.add(Dropout(0.2))\n",
    "# lstm.add(LSTM(units = 64, activation='tanh', return_sequences=True))\n",
    "# lstm.add(Dropout(0.2))\n",
    "# lstm.add(Dense(1, activation='sigmoid')) \n",
    "# lstm.add(Flatten())\n",
    "# lstm.compile(optimizer='rmsprop', loss='binary_crossentropy', metrics=['accuracy'])\n",
    "\n",
    "# # predictions\n",
    "# predictions = model1.predict(x_test)\n",
    "# y_pred = [round(x[0]) for x in predictions]"
   ]
  },
  {
   "cell_type": "code",
   "execution_count": 5,
   "metadata": {},
   "outputs": [],
   "source": [
    "# # GRU\n",
    "# from keras.models import Sequential\n",
    "# from keras.layers import Dense, Dropout, GRU, Flatten\n",
    "\n",
    "# gru = Sequential()\n",
    "# gru.add(GRU(units = 128, activation='tanh', return_sequences=True, input_shape = (features,1)))\n",
    "# gru.add(Dropout(0.2))\n",
    "# gru.add(GRU(units = 64, activation='tanh', return_sequences=True))\n",
    "# gru.add(Dropout(0.2))\n",
    "# gru.add(Dense(1, activation='sigmoid'))\n",
    "# gru.add(Flatten())\n",
    "# gru.compile(optimizer='rmsprop', loss='binary_crossentropy', metrics=['accuracy'])\n",
    "\n",
    "# # prediction\n",
    "# predictions = model.predict(x_test)\n",
    "# y_pred = [round(x[0]) for x in predictions]"
   ]
  },
  {
   "cell_type": "code",
   "execution_count": 6,
   "metadata": {},
   "outputs": [],
   "source": [
    "# CART\n",
    "from sklearn.tree import DecisionTreeClassifier\n",
    "cart = DecisionTreeClassifier(criterion='gini')"
   ]
  },
  {
   "cell_type": "code",
   "execution_count": 7,
   "metadata": {},
   "outputs": [],
   "source": [
    "# kNN\n",
    "from sklearn.neighbors import KNeighborsClassifier\n",
    "knn = KNeighborsClassifier(n_neighbors=2)"
   ]
  },
  {
   "cell_type": "code",
   "execution_count": 8,
   "metadata": {},
   "outputs": [],
   "source": [
    "# LDA\n",
    "from sklearn.discriminant_analysis import LinearDiscriminantAnalysis\n",
    "lda = LinearDiscriminantAnalysis()"
   ]
  },
  {
   "cell_type": "code",
   "execution_count": 9,
   "metadata": {},
   "outputs": [],
   "source": [
    "# Logistic Regression\n",
    "from sklearn.linear_model import LogisticRegression\n",
    "lr = LogisticRegression()"
   ]
  },
  {
   "cell_type": "code",
   "execution_count": 10,
   "metadata": {},
   "outputs": [],
   "source": [
    "# Random Forest\n",
    "from sklearn.ensemble import RandomForestClassifier\n",
    "rf = RandomForestClassifier(n_estimators=100)"
   ]
  },
  {
   "cell_type": "code",
   "execution_count": 11,
   "metadata": {},
   "outputs": [],
   "source": [
    "# Support Vector Machine\n",
    "from sklearn.svm import SVC\n",
    "svc = SVC(probability=False)"
   ]
  },
  {
   "cell_type": "code",
   "execution_count": 12,
   "metadata": {},
   "outputs": [],
   "source": [
    "run(x, y, cart, 'CART')\n",
    "run(x, y, knn, 'kNN')\n",
    "run(x, y, lda, 'LDA')\n",
    "run(x, y, lr, 'LR')\n",
    "run(x, y, rf, 'RF')\n",
    "run(x, y, svc, 'SVC')"
   ]
  },
  {
   "cell_type": "code",
   "execution_count": 13,
   "metadata": {},
   "outputs": [],
   "source": [
    "# ensemble model\n",
    "voting = VotingClassifier(estimators=[('RF', rf), ('LR', lr), ('LDA', lda), ('KNN', knn), ('CART', cart), ('SVC', svc)], voting='hard')\n",
    "\n",
    "run(x,y, voting, 'VC')"
   ]
  }
 ],
 "metadata": {
  "language_info": {
   "name": "python"
  },
  "orig_nbformat": 4
 },
 "nbformat": 4,
 "nbformat_minor": 2
}
