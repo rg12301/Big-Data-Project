{
 "cells": [
  {
   "cell_type": "markdown",
   "metadata": {},
   "source": [
    "### Server Setup\n",
    "\n",
    "Creating a stream of data & sending it to the clients.\n",
    "\n",
    "<br>\n",
    "<br>"
   ]
  },
  {
   "cell_type": "code",
   "execution_count": 1,
   "metadata": {},
   "outputs": [],
   "source": [
    "# to specify delay between two consecutive records in stream\n",
    "DELAY = 0.05"
   ]
  },
  {
   "cell_type": "code",
   "execution_count": 2,
   "metadata": {},
   "outputs": [],
   "source": [
    "# Importing required modules\n",
    "\n",
    "# data streaming\n",
    "import asyncio\n",
    "import websockets\n",
    "from time import sleep\n",
    "\n",
    "# data processing\n",
    "import pandas as pd\n",
    "from sklearn.preprocessing import LabelEncoder"
   ]
  },
  {
   "cell_type": "code",
   "execution_count": 3,
   "metadata": {},
   "outputs": [],
   "source": [
    "# Read csv files of merged data\n",
    "\n",
    "# # original data\n",
    "# data = pd.read_csv(\"../data/IoT_Garage_Door.csv\", low_memory=False)\n",
    "\n",
    "# test data for presentation purpose\n",
    "data = pd.read_csv(\"../data/test_garage.csv\", low_memory=False)"
   ]
  },
  {
   "cell_type": "code",
   "execution_count": 4,
   "metadata": {},
   "outputs": [],
   "source": [
    "# dropping NaN or NA values\n",
    "data = data.dropna()\n",
    "\n",
    "# encoding string type variables to numeric type (required for model training)\n",
    "encoder=LabelEncoder()\n",
    "data['type']=encoder.fit_transform(data['type'])\n",
    "data['state']=encoder.fit_transform(data['state'])\n",
    "data['sphone_signal']=encoder.fit_transform(data['sphone_signal'])"
   ]
  },
  {
   "cell_type": "code",
   "execution_count": 5,
   "metadata": {},
   "outputs": [
    {
     "data": {
      "text/html": [
       "<div>\n",
       "<style scoped>\n",
       "    .dataframe tbody tr th:only-of-type {\n",
       "        vertical-align: middle;\n",
       "    }\n",
       "\n",
       "    .dataframe tbody tr th {\n",
       "        vertical-align: top;\n",
       "    }\n",
       "\n",
       "    .dataframe thead th {\n",
       "        text-align: right;\n",
       "    }\n",
       "</style>\n",
       "<table border=\"1\" class=\"dataframe\">\n",
       "  <thead>\n",
       "    <tr style=\"text-align: right;\">\n",
       "      <th></th>\n",
       "      <th>date</th>\n",
       "      <th>time</th>\n",
       "      <th>state</th>\n",
       "      <th>sphone_signal</th>\n",
       "      <th>label</th>\n",
       "      <th>type</th>\n",
       "    </tr>\n",
       "  </thead>\n",
       "  <tbody>\n",
       "    <tr>\n",
       "      <th>0</th>\n",
       "      <td>1-Apr-19</td>\n",
       "      <td>20:53:44</td>\n",
       "      <td>1</td>\n",
       "      <td>2</td>\n",
       "      <td>0</td>\n",
       "      <td>3</td>\n",
       "    </tr>\n",
       "    <tr>\n",
       "      <th>1</th>\n",
       "      <td>1-Apr-19</td>\n",
       "      <td>20:53:49</td>\n",
       "      <td>0</td>\n",
       "      <td>0</td>\n",
       "      <td>0</td>\n",
       "      <td>3</td>\n",
       "    </tr>\n",
       "    <tr>\n",
       "      <th>2</th>\n",
       "      <td>1-Apr-19</td>\n",
       "      <td>20:53:49</td>\n",
       "      <td>1</td>\n",
       "      <td>2</td>\n",
       "      <td>0</td>\n",
       "      <td>3</td>\n",
       "    </tr>\n",
       "    <tr>\n",
       "      <th>3</th>\n",
       "      <td>1-Apr-19</td>\n",
       "      <td>20:53:54</td>\n",
       "      <td>0</td>\n",
       "      <td>0</td>\n",
       "      <td>0</td>\n",
       "      <td>3</td>\n",
       "    </tr>\n",
       "    <tr>\n",
       "      <th>4</th>\n",
       "      <td>1-Apr-19</td>\n",
       "      <td>20:53:54</td>\n",
       "      <td>1</td>\n",
       "      <td>2</td>\n",
       "      <td>0</td>\n",
       "      <td>3</td>\n",
       "    </tr>\n",
       "  </tbody>\n",
       "</table>\n",
       "</div>"
      ],
      "text/plain": [
       "       date      time  state  sphone_signal label  type\n",
       "0  1-Apr-19  20:53:44      1              2     0     3\n",
       "1  1-Apr-19  20:53:49      0              0     0     3\n",
       "2  1-Apr-19  20:53:49      1              2     0     3\n",
       "3  1-Apr-19  20:53:54      0              0     0     3\n",
       "4  1-Apr-19  20:53:54      1              2     0     3"
      ]
     },
     "execution_count": 5,
     "metadata": {},
     "output_type": "execute_result"
    }
   ],
   "source": [
    "data.head()"
   ]
  },
  {
   "cell_type": "code",
   "execution_count": 6,
   "metadata": {},
   "outputs": [
    {
     "name": "stderr",
     "output_type": "stream",
     "text": [
      "connection handler failed\n",
      "Traceback (most recent call last):\n",
      "  File \"/usr/local/lib/python3.10/dist-packages/websockets/legacy/protocol.py\", line 945, in transfer_data\n",
      "    message = await self.read_message()\n",
      "  File \"/usr/local/lib/python3.10/dist-packages/websockets/legacy/protocol.py\", line 1015, in read_message\n",
      "    frame = await self.read_data_frame(max_size=self.max_size)\n",
      "  File \"/usr/local/lib/python3.10/dist-packages/websockets/legacy/protocol.py\", line 1090, in read_data_frame\n",
      "    frame = await self.read_frame(max_size)\n",
      "  File \"/usr/local/lib/python3.10/dist-packages/websockets/legacy/protocol.py\", line 1145, in read_frame\n",
      "    frame = await Frame.read(\n",
      "  File \"/usr/local/lib/python3.10/dist-packages/websockets/legacy/framing.py\", line 70, in read\n",
      "    data = await reader(2)\n",
      "  File \"/usr/lib/python3.10/asyncio/streams.py\", line 708, in readexactly\n",
      "    await self._wait_for_data('readexactly')\n",
      "  File \"/usr/lib/python3.10/asyncio/streams.py\", line 502, in _wait_for_data\n",
      "    await self._waiter\n",
      "  File \"/usr/lib/python3.10/asyncio/selector_events.py\", line 853, in _read_ready__data_received\n",
      "    data = self._sock.recv(self.max_size)\n",
      "ConnectionResetError: [Errno 104] Connection reset by peer\n",
      "\n",
      "The above exception was the direct cause of the following exception:\n",
      "\n",
      "Traceback (most recent call last):\n",
      "  File \"/usr/local/lib/python3.10/dist-packages/websockets/legacy/server.py\", line 232, in handler\n",
      "    await self.ws_handler(self)\n",
      "  File \"/tmp/ipykernel_9495/618672361.py\", line 22, in server\n",
      "    ok = await websocket.recv()\n",
      "  File \"/usr/local/lib/python3.10/dist-packages/websockets/legacy/protocol.py\", line 553, in recv\n",
      "    await self.ensure_open()\n",
      "  File \"/usr/local/lib/python3.10/dist-packages/websockets/legacy/protocol.py\", line 921, in ensure_open\n",
      "    raise self.connection_closed_exc()\n",
      "websockets.exceptions.ConnectionClosedError: no close frame received or sent\n"
     ]
    }
   ],
   "source": [
    "async def server(websocket):\n",
    "    \"\"\"\n",
    "    Server function to stream data row-wise in a comma separated string format.\n",
    "    \"\"\"\n",
    "\n",
    "    # convert a row to space(\" \") separated string format\n",
    "    temp = data.to_string(header=False,index=False,\n",
    "                  index_names=False).split('\\n')\n",
    "\n",
    "    # now convert above row to comma(\",\") separated string format\n",
    "    rows = [','.join(ele.split()) for ele in temp]\n",
    "    \n",
    "    c=0    # variable to keep track of number of records sent\n",
    "\n",
    "    # while 'c' is less than & equal to total number of records in dataset\n",
    "    # this loop is responsible for creating data stream\n",
    "    while(len(data)>c):\n",
    "        # send stringified row to the client\n",
    "        await websocket.send(rows[c])\n",
    "\n",
    "        # wait of acknowledgement\n",
    "        ok = await websocket.recv()\n",
    "        if(bool(ok)):\n",
    "            c+=1    # if successfully received then increment 'c' by 1\n",
    "        \n",
    "        # add artificial delay to simulate a remote server client setup having communication delays due to network traffic\n",
    "        sleep(DELAY)\n",
    "\n",
    "async def main():\n",
    "    async with websockets.serve(server, \"localhost\", 8765, ping_interval=None):\n",
    "        await asyncio.Future()  # run forever\n",
    "\n",
    "await main()"
   ]
  },
  {
   "cell_type": "markdown",
   "metadata": {},
   "source": [
    "<br>\n",
    "<br>\n",
    "<center><b>End of File</b></center>"
   ]
  }
 ],
 "metadata": {
  "kernelspec": {
   "display_name": "Python 3.10.4 64-bit",
   "language": "python",
   "name": "python3"
  },
  "language_info": {
   "codemirror_mode": {
    "name": "ipython",
    "version": 3
   },
   "file_extension": ".py",
   "mimetype": "text/x-python",
   "name": "python",
   "nbconvert_exporter": "python",
   "pygments_lexer": "ipython3",
   "version": "3.10.4"
  },
  "orig_nbformat": 4,
  "vscode": {
   "interpreter": {
    "hash": "916dbcbb3f70747c44a77c7bcd40155683ae19c65e1c03b4aa3499c5328201f1"
   }
  }
 },
 "nbformat": 4,
 "nbformat_minor": 2
}
